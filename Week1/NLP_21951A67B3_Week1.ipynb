{
 "cells": [
  {
   "cell_type": "markdown",
   "id": "4a88ad64-ad05-4433-a5a2-cb27ed1276c7",
   "metadata": {},
   "source": [
    "# Prepare the text data for the NLP model building and perform the text pre-processing. Use the required pre-processing steps based on the dataset prepared and understand the steps involved in Text Pre-processing."
   ]
  },
  {
   "cell_type": "markdown",
   "id": "f7275efb-4097-4c36-8909-b2995a7fd373",
   "metadata": {},
   "source": [
    "### a) Lowercase the text to reduce the size of the vocabulary of our text data."
   ]
  },
  {
   "cell_type": "code",
   "execution_count": 1,
   "id": "fae28f49-ad6f-4d53-9e8a-c58a6175c9b5",
   "metadata": {},
   "outputs": [],
   "source": [
    "import re\n",
    "import string"
   ]
  },
  {
   "cell_type": "code",
   "execution_count": 2,
   "id": "1e4f6338-60c5-4e00-98d3-84ce4a75dfd2",
   "metadata": {},
   "outputs": [],
   "source": [
    "def convert_to_lowercase_text(text):\n",
    "    #convert to lowercase text\n",
    "    text = text.lower()\n",
    "    return text"
   ]
  },
  {
   "cell_type": "code",
   "execution_count": 3,
   "id": "b822e214-e228-42e3-86f4-e53fa5ddbb3d",
   "metadata": {},
   "outputs": [
    {
     "name": "stdout",
     "output_type": "stream",
     "text": [
      "Text before conversion:\n",
      "TensorFlow makes it easy to create ML models that can run in any environment.\n",
      "\n",
      "Text after conversion:\n",
      "tensorflow makes it easy to create ml models that can run in any environment.\n"
     ]
    }
   ],
   "source": [
    "demo_text = \"TensorFlow makes it easy to create ML models that can run in any environment.\"\n",
    "lower_text = convert_to_lowercase_text(demo_text)\n",
    "print(\"Text before conversion:\")\n",
    "print(demo_text)\n",
    "print(\"\\nText after conversion:\")\n",
    "print(lower_text)"
   ]
  },
  {
   "cell_type": "markdown",
   "id": "04733897-99c9-4301-9d3e-0d19df8bf9a7",
   "metadata": {},
   "source": [
    "### b) Remove numbers or convert the numbers into their textual representations."
   ]
  },
  {
   "cell_type": "code",
   "execution_count": 4,
   "id": "6c609b22-99ab-4073-830c-a630da9dc776",
   "metadata": {},
   "outputs": [],
   "source": [
    "import re"
   ]
  },
  {
   "cell_type": "code",
   "execution_count": 5,
   "id": "cd87a05b-a513-4d18-995b-1ee4935e1219",
   "metadata": {},
   "outputs": [
    {
     "name": "stdout",
     "output_type": "stream",
     "text": [
      "I have mobile with Android  verison.\n"
     ]
    }
   ],
   "source": [
    "text_with_numbers = \"I have mobile with Android 11 verison.\"\n",
    "text_without_numbers = re.sub(r'\\d+','', text_with_numbers)\n",
    "print(text_without_numbers)"
   ]
  },
  {
   "cell_type": "code",
   "execution_count": 6,
   "id": "745caba2-4ecc-4085-9127-dce8fca3f9e6",
   "metadata": {},
   "outputs": [
    {
     "name": "stdout",
     "output_type": "stream",
     "text": [
      "text_with_numbers: There are 5 apples and 10 oranges on the table.\n",
      "text_with_textual_numbers: There are five apples and onezero oranges on the table.\n"
     ]
    }
   ],
   "source": [
    "import re\n",
    "\n",
    "def number_to_text(match):\n",
    "    num_dict = {\n",
    "        '0': 'zero', '1': 'one', '2': 'two', '3': 'three', '4': 'four',\n",
    "        '5': 'five', '6': 'six', '7': 'seven', '8': 'eight', '9': 'nine'\n",
    "    }\n",
    "    return num_dict.get(match.group(0), '')\n",
    "\n",
    "def convert_numbers_to_text(text):\n",
    "    pattern = r'\\d'\n",
    "    result = re.sub(pattern, number_to_text, text)\n",
    "    return result\n",
    "    \n",
    "text_with_numbers = \"There are 5 apples and 10 oranges on the table.\"\n",
    "print(\"text_with_numbers:\",text_with_numbers)\n",
    "text_with_textual_numbers = convert_numbers_to_text(text_with_numbers)\n",
    "print(\"text_with_textual_numbers:\",text_with_textual_numbers)\n"
   ]
  },
  {
   "cell_type": "code",
   "execution_count": 7,
   "id": "e3b7337e-e6d4-47e8-862b-07ddedc72fe8",
   "metadata": {},
   "outputs": [
    {
     "name": "stdout",
     "output_type": "stream",
     "text": [
      "He have three mobiles and two Laptops.\n"
     ]
    }
   ],
   "source": [
    "from num2words import num2words\n",
    "\n",
    "text_with_numbers = \"He have 3 mobiles and 2 Laptops.\"\n",
    "words = []\n",
    "for word in text_with_numbers.split():\n",
    "    if word.isdigit():\n",
    "        words.append(num2words(int(word)))\n",
    "    else:\n",
    "        words.append(word)\n",
    "text_without_numbers = ' '.join(words)\n",
    "print(text_without_numbers)"
   ]
  },
  {
   "cell_type": "markdown",
   "id": "6740e1ce-72f0-410d-9c58-9e577d379da8",
   "metadata": {},
   "source": [
    "### c)Remove punctuation so that we don’t have different forms of the same word. If we don’t remove the punctuation, then been. been, been! will be treated separately."
   ]
  },
  {
   "cell_type": "code",
   "execution_count": 8,
   "id": "c6925091-708b-4520-ab0e-5d252ca8bff4",
   "metadata": {},
   "outputs": [
    {
     "name": "stdout",
     "output_type": "stream",
     "text": [
      "Original string is\n",
      "\"Yes, I did call her,\" Maggie said.\"\n",
      "\n",
      "New Clean string is\n",
      "Yes I did call her Maggie said\n"
     ]
    }
   ],
   "source": [
    "deletetion_symbols = '''!()-[]{};:'\"\\,<>./?@#$%^&*_~'''\n",
    "raw_string = '\"Yes, I did call her,\" Maggie said.\"'\n",
    "new_string = \"\"\n",
    "for x in raw_string:\n",
    "    if x not in deletetion_symbols:\n",
    "        new_string += x\n",
    "print(\"Original string is\")\n",
    "print(raw_string)\n",
    "print(\"\\nNew Clean string is\")\n",
    "print(new_string)\n"
   ]
  },
  {
   "cell_type": "markdown",
   "id": "c3b83214-67d5-4278-800f-7024083ada10",
   "metadata": {},
   "source": [
    "### d) Use the join and split function to remove all the white spaces in a string."
   ]
  },
  {
   "cell_type": "code",
   "execution_count": 9,
   "id": "35ca8633-580b-4e61-aee2-5b3c626b72dd",
   "metadata": {},
   "outputs": [
    {
     "name": "stdout",
     "output_type": "stream",
     "text": [
      "Original Text:\n",
      "Hello, World! This is           an example text;          it includes punctuation.     And excessive spaces.\n",
      "\n",
      "Removed Whitespaces Text:\n",
      "Hello, World! This is an example text; it includes punctuation. And excessive spaces.\n"
     ]
    }
   ],
   "source": [
    "import re\n",
    "import string\n",
    "def whitespaces(text):\n",
    "# Remove excessive whitespaces\n",
    "    text = ' '.join(text.split())\n",
    "    return text\n",
    "example_text = \"Hello, World! This is           an example text;          it includes punctuation.     And excessive spaces.\"\n",
    "\n",
    "cleaned_text = whitespaces(example_text)\n",
    "print(\"Original Text:\")\n",
    "print(example_text)\n",
    "print(\"\\nRemoved Whitespaces Text:\")\n",
    "print(cleaned_text)\n"
   ]
  },
  {
   "cell_type": "code",
   "execution_count": null,
   "id": "fe1e3491-9425-4913-9ae0-a3e248de1721",
   "metadata": {},
   "outputs": [],
   "source": []
  }
 ],
 "metadata": {
  "kernelspec": {
   "display_name": "Python 3 (ipykernel)",
   "language": "python",
   "name": "python3"
  },
  "language_info": {
   "codemirror_mode": {
    "name": "ipython",
    "version": 3
   },
   "file_extension": ".py",
   "mimetype": "text/x-python",
   "name": "python",
   "nbconvert_exporter": "python",
   "pygments_lexer": "ipython3",
   "version": "3.11.6"
  }
 },
 "nbformat": 4,
 "nbformat_minor": 5
}
